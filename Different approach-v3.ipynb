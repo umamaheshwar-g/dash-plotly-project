{
 "cells": [
  {
   "cell_type": "code",
   "execution_count": 1,
   "metadata": {},
   "outputs": [],
   "source": [
    "#install dash bootstrap components \n",
    "#pip install dash-bootstrap-components"
   ]
  },
  {
   "cell_type": "code",
   "execution_count": 2,
   "metadata": {},
   "outputs": [],
   "source": [
    "import pandas as pd\n",
    "import glob\n",
    "import numpy as np\n",
    "import plotly.io as pio\n",
    "import plotly.graph_objects as go\n",
    "import plotly.express as px\n",
    "import dash\n",
    "import dash_core_components as dcc\n",
    "import dash_bootstrap_components as dbc\n",
    "import dash_html_components as html\n",
    "from dash.dependencies import Input, Output\n",
    "from datetime import datetime, date\n",
    "from dateutil import tz, parser\n",
    "import warnings\n",
    "warnings.filterwarnings('ignore')\n",
    "import os"
   ]
  },
  {
   "cell_type": "code",
   "execution_count": 3,
   "metadata": {},
   "outputs": [],
   "source": [
    "# path = '../Data/Analysis' # use your path\n",
    "path = r'C:\\Users\\umama\\shravya python assignment\\Analysis'\n",
    "all_files = glob.glob(path + \"/*.csv\")\n",
    "all_files_dict={}\n",
    "\n",
    "for csv in all_files:\n",
    "    meter_name=os.path.basename(csv).replace('_results.csv','')\n",
    "    all_files_dict[meter_name]=os.path.abspath(csv)\n"
   ]
  },
  {
   "cell_type": "code",
   "execution_count": 4,
   "metadata": {},
   "outputs": [],
   "source": [
    "# labels = pd.read_csv('../data/Meter Names and Labels.csv')\n",
    "labels = pd.read_csv(r'C:\\Users\\umama\\shravya python assignment\\Meter Names and Labels.csv')\n",
    "labels = labels.rename(columns={\"Name\": \"Building_Name\"})\n",
    "labels['Building_Name'] = labels['Building_Name'].str.replace(\"'\" , \" \")\n",
    "labels['Building_Name'] = labels['Building_Name'].str.replace('-' , \"\")\n",
    "labels['Building_Name'] = labels['Building_Name'].str.replace('\"Spencer Hall\"' , '')\n",
    "labels['Building_Name'] = labels['Building_Name'].str.replace('_kWh' , \"\")\n",
    "labels['Building_Name'] = labels['Building_Name'].str.strip()\n",
    "# labels\n",
    "# print(labels.Building_Name.unique())"
   ]
  },
  {
   "cell_type": "code",
   "execution_count": 5,
   "metadata": {},
   "outputs": [],
   "source": [
    "# find building names\n",
    "building_options=[]\n",
    "build_name = {}\n",
    "# print(labels)\n",
    "for index, row in labels.iterrows():\n",
    "#     print(row['c1'], row['c2'])\n",
    "    building_options.append({'label':row['Label'],'value':row['Building_Name']})\n",
    "# print(building_options)\n",
    "# for building_name in list(labels.Label.unique()):\n",
    "#     building_options.append({'label':building_name,'value':building_name})\n",
    "   \n",
    "# year options\n",
    "year_options = []\n",
    "years = [2015,2016,2017,2018,2019,2020]\n",
    "for year in years:\n",
    "    year_options.append({'label':year,'value':year})\n"
   ]
  },
  {
   "cell_type": "code",
   "execution_count": null,
   "metadata": {},
   "outputs": [],
   "source": []
  },
  {
   "cell_type": "code",
   "execution_count": 6,
   "metadata": {},
   "outputs": [],
   "source": [
    "app = dash.Dash(__name__,external_stylesheets=[dbc.themes.BOOTSTRAP])\n",
    "# App layout\n",
    "app.layout = html.Div([\n",
    "    \n",
    "dbc.NavbarSimple(\n",
    "    children=[\n",
    "        html.H1(\"UNCG ENERGY CONSUMPTION DASHBOARD\", style={'align': 'center','text-align': 'center','color':'#FFB71B'}),\n",
    "    ],\n",
    "    color=\"#072955\",\n",
    "    dark=True,\n",
    "),\n",
    "html.Br(),\n",
    "    \n",
    "html.Div([\n",
    "dbc.Row([    \n",
    "    dbc.Col([\n",
    "        dbc.Card(dbc.CardBody([\n",
    "            dbc.Row(html.H4(dbc.Badge(\"Total/Average Consumption \",style={\"background-color\": \"#072955\"},className=\"ml-1\"))),\n",
    "\n",
    "            dbc.Row(\n",
    "\n",
    "                dbc.FormGroup(\n",
    "                    [\n",
    "#                     dbc.Label(\"Toggle a bunch\"),\n",
    "                    dbc.RadioItems(\n",
    "                    options=[\n",
    "                        {'label': 'Total', 'value': 'Total'},\n",
    "                        {'label': 'Average', 'value': 'Average'}\n",
    "                    ],\n",
    "                        value='Total',\n",
    "                        id=\"consumption\",\n",
    "                        inline=True,\n",
    "                    ),\n",
    "                    ]\n",
    "                )\n",
    "            ),\n",
    "\n",
    "\n",
    "            dbc.Row(html.H4(dbc.Badge(\"Select Time Units\",className=\"ml-1\",style={\"background-color\": \"#072955\"}))),\n",
    "\n",
    "            dbc.Row(\n",
    "\n",
    "                dbc.FormGroup(\n",
    "                    [\n",
    "#                     dbc.Label(\"Toggle a bunch\"),\n",
    "                    dbc.RadioItems(\n",
    "                    options=[\n",
    "                        {'label': 'Hourly', 'value': 'hourly'},\n",
    "                        {'label': 'Daily',  'value': 'daily'},\n",
    "                        {'label': 'Weekly', 'value': 'weekly'},\n",
    "                        {'label': 'Monthly','value': 'monthly'}\n",
    "                    ],\n",
    "                        value='monthly',\n",
    "                        id=\"freq\",\n",
    "                        inline=True,\n",
    "                    ),\n",
    "                    ]\n",
    "                )\n",
    "            ),\n",
    "            \n",
    "\n",
    "            dbc.Row(\n",
    "                dbc.FormGroup(\n",
    "                    [\n",
    "#                     dbc.Label(\"Toggle a bunch\"),\n",
    "                    dbc.Checklist(\n",
    "                    options=[\n",
    "                        {'label': 'Actual', 'value': 'Actual'},\n",
    "                        {'label': 'Predicted', 'value': 'Predicted'}\n",
    "                    ],\n",
    "                        value=['Actual'],\n",
    "                        id=\"check\",\n",
    "                        inline=True,\n",
    "                        switch=True,\n",
    "                    ),\n",
    "                    ]\n",
    "                )\n",
    "            ),\n",
    "            dbc.Row(html.H4(dbc.Badge(\"Select which meter/s to be shown on graph \",style={\"background-color\": \"#072955\"},className=\"ml-1\"))),\n",
    "\n",
    "            dbc.Row(dbc.Col(\n",
    "                dcc.Dropdown(\n",
    "                id='meters',\n",
    "                options=building_options,\n",
    "                value=['Baseball'],\n",
    "                multi=True),\n",
    "#                 dbc.Select(\n",
    "#                     id=\"meters\",\n",
    "#                     options=building_options,\n",
    "#                     value='Baseball'\n",
    "#                         ),\n",
    "                width=10,\n",
    "            )),\n",
    "        \n",
    "            dbc.Row(html.H4(dbc.Badge(\"Showing data for Selected Years\",style={\"background-color\": \"#072955\"},className=\"ml-1\"))),\n",
    "            dbc.Row(\n",
    "\n",
    "                dbc.FormGroup(\n",
    "                    [\n",
    "#                     dbc.Label(\"Toggle a bunch\"),\n",
    "                    dbc.Checklist(\n",
    "                        options=year_options,\n",
    "                        value=[2020],\n",
    "                        id=\"years\",\n",
    "                        inline=True,\n",
    "                    ),\n",
    "                    ]\n",
    "                )\n",
    "            ), \n",
    "    ]),style={\"background-color\": \"#FFB71B\"},className=\"shadow-lg \"),\n",
    "    ], width=4),\n",
    "    \n",
    "    dbc.Col(\n",
    "        dbc.Card(dbc.CardBody([\n",
    "            dcc.Graph(id='predicted_graph', figure={}),\n",
    "        ]),style={\"background-color\": \"#072955\"},className=\"shadow-lg \"),\n",
    "    width=8),    \n",
    "    \n",
    "    \n",
    "]),    \n",
    "    \n",
    "html.Br(),\n",
    "########################## for task 2 ##############################    \n",
    "dbc.Row([     \n",
    "    \n",
    "    dbc.Col([\n",
    "        dbc.Card(dbc.CardBody([        \n",
    "            dbc.Row(html.H4(dbc.Badge(\"Select which meter to be shown on graph \",style={\"background-color\": \"#072955\"},className=\"ml-1\"))),\n",
    "\n",
    "            dbc.Row(dbc.Col(\n",
    "                dbc.Select(\n",
    "                    id=\"meter_group\",\n",
    "                    options=building_options,\n",
    "                    value='Baseball'\n",
    "                        ),\n",
    "                width=10,\n",
    "            )),\n",
    "\n",
    "            dbc.Row(html.H4(dbc.Badge(\"Select Time Units\",style={\"background-color\": \"#072955\"},className=\"ml-1\"))),\n",
    "\n",
    "            dbc.Row(\n",
    "                    dbc.FormGroup(\n",
    "                        [\n",
    "    #                     dbc.Label(\"Toggle a bunch\"),\n",
    "                        dbc.RadioItems(\n",
    "                        options=[\n",
    "                            {'label': 'Hourly', 'value': 'hourly'},\n",
    "                            {'label': 'Daily',  'value': 'daily'},\n",
    "                            {'label': 'Weekly', 'value': 'weekly'},\n",
    "                            {'label': 'Monthly','value': 'monthly'}\n",
    "                        ],\n",
    "                            value='monthly',\n",
    "                            id=\"freq_group\",\n",
    "                            inline=True,\n",
    "                        ),\n",
    "                        ]\n",
    "                    )\n",
    "            ),\n",
    "            dbc.Row(html.H4(dbc.Badge(\"Pick date range to be shown of graph\",style={\"background-color\": \"#072955\"},className=\"ml-1\"))),\n",
    "\n",
    "            dbc.Row(dcc.DatePickerRange(\n",
    "                id='date-picker-range',\n",
    "                min_date_allowed=date(2020, 1, 1),\n",
    "                max_date_allowed=date(2100, 12, 31),\n",
    "                initial_visible_month=date(2020, 1, 1),\n",
    "                start_date=date(2020, 1, 1),\n",
    "                end_date=date(2020, 12, 31),\n",
    "            )),\n",
    "        ]), style={\"background-color\": \"#FFB71B\"},className=\"shadow-lg \"),\n",
    "\n",
    "    ],width=4),\n",
    "    \n",
    "    dbc.Col(  \n",
    "        dbc.Card(dbc.CardBody([ \n",
    "            dcc.Graph(id='group_plot', figure={}),\n",
    "        ]),style={\"background-color\": \"#072955\"},className=\"shadow-lg \"),\n",
    "    width=8),\n",
    "]),\n",
    "\n",
    "\n",
    "]),\n",
    "\n",
    "],className='container-fluid')\n",
    "    \n"
   ]
  },
  {
   "cell_type": "code",
   "execution_count": 7,
   "metadata": {},
   "outputs": [],
   "source": [
    "# Connect the Plotly graphs with Dash Components\n",
    "@app.callback(\n",
    "    [ Output(component_id='predicted_graph', component_property='figure'),\n",
    "    Output(component_id='group_plot', component_property='figure')],\n",
    "    [Input(component_id='consumption', component_property='value'),\n",
    "    Input(component_id='freq', component_property='value'),\n",
    "    Input(component_id='check', component_property='value'),\n",
    "    Input(component_id='meters', component_property='value'),\n",
    "    Input(component_id='years', component_property='value'),\n",
    "    Input(component_id='meter_group', component_property='value'),\n",
    "    Input(component_id='freq_group', component_property='value'),\n",
    "    Input('date-picker-range', 'start_date'),\n",
    "    Input('date-picker-range', 'end_date'),]\n",
    ")\n",
    "def update_graph(cons_agg,freq,act_pred,meters,years,meter_group,freq_group,start_date,end_date):\n",
    "    print('Chosen values are:',cons_agg,freq,act_pred,meters,years)\n",
    "\n",
    "\n",
    "\n",
    "    def get_data(cons_agg,freq,act_pred,meter,years):\n",
    "        \n",
    "        cols = ['Actual','Predicted','obs_ci_lower','obs_ci_upper','Datetime']\n",
    "        file_path=all_files_dict[meter]\n",
    "        csv_file = open(file_path)\n",
    "        dff = pd.read_csv(csv_file ,encoding = \"ISO-8859-1\",engine = 'python', sep=',', header=0,names=cols,error_bad_lines=False)\n",
    "        dff['Datetime'] = pd.to_datetime(dff['Datetime'],utc=True,infer_datetime_format=False)\n",
    "        dff_sel_year = dff[dff.Datetime.dt.year.isin(years) ]\n",
    "#         print(dff_sel_year.head())\n",
    "        \n",
    "        if freq=='daily':\n",
    "            if cons_agg == 'Total':\n",
    "                dff1 = dff_sel_year.groupby(pd.Grouper(key='Datetime', freq='D'))['Actual','Predicted','obs_ci_upper','obs_ci_lower'].sum().reset_index()\n",
    "            else:\n",
    "                dff1 = dff_sel_year.groupby(pd.Grouper(key='Datetime', freq='D'))['Actual','Predicted','obs_ci_upper','obs_ci_lower'].mean().reset_index()\n",
    "\n",
    "        elif freq=='weekly':\n",
    "            if cons_agg == 'Total':\n",
    "                dff1 = dff_sel_year.groupby(pd.Grouper(key='Datetime', freq='W'))['Actual','Predicted','obs_ci_upper','obs_ci_lower'].sum().reset_index()\n",
    "            else:\n",
    "                dff1 = dff_sel_year.groupby(pd.Grouper(key='Datetime', freq='W'))['Actual','Predicted','obs_ci_upper','obs_ci_lower'].mean().reset_index()\n",
    "        elif freq=='monthly':\n",
    "            if cons_agg == 'Total':\n",
    "                dff1=dff_sel_year.groupby(pd.Grouper(key='Datetime',freq='M'))['Actual','Predicted','obs_ci_upper','obs_ci_lower'].sum().reset_index()\n",
    "            else:\n",
    "                dff1 = dff_sel_year.groupby(pd.Grouper(key='Datetime', freq='M'))['Actual','Predicted','obs_ci_upper','obs_ci_lower'].mean().reset_index()\n",
    "        else:\n",
    "            # Hourly\n",
    "            if cons_agg == 'Total':\n",
    "                dff1 = dff_sel_year\n",
    "            else:\n",
    "                dff1 = dff_sel_year\n",
    "        csv_file.close()\n",
    "        return(dff1)\n",
    "\n",
    "    \n",
    "    if type(meters)==str:\n",
    "        meters=[meters]\n",
    "    fig = go.Figure()   \n",
    "    for meter in meters:\n",
    "        \n",
    "        data=get_data(cons_agg,freq,act_pred,meter,years)\n",
    "        if 'Actual' in act_pred:     \n",
    "#             fig = px.scatter(x=data['Datetime'], y=data['Actual'],)\n",
    "            fig.add_trace(\n",
    "                go.Scatter(x=data['Datetime'],\n",
    "                            y=data['Actual'], \n",
    "                            mode='lines+markers', line={'dash': 'solid'},\n",
    "                            name='Actual-'+meter)\n",
    "            )\n",
    "        if 'Predicted' in act_pred:\n",
    "            fig.add_trace(go.Scatter(x=data['Datetime'], y=data['Predicted'],\n",
    "                                mode='lines+markers',\n",
    "                                line={'dash': 'dash'},\n",
    "                                name='Predicted-'+meter))\n",
    "            fig.add_trace(go.Scatter(\n",
    "                                name='Upper Bound',\n",
    "                                x=data['Datetime'],\n",
    "                                y=data['obs_ci_upper'],\n",
    "                                mode='lines',\n",
    "                                marker=dict(color=\"#444\"),\n",
    "                                line=dict(width=0),\n",
    "                                showlegend=False))\n",
    "            fig.add_trace(go.Scatter(\n",
    "                                name='Lower Bound',\n",
    "                                x=data['Datetime'],\n",
    "                                y=data['obs_ci_lower'],\n",
    "                                marker=dict(color=\"#444\"),\n",
    "                                line=dict(width=0),\n",
    "                                mode='lines',\n",
    "                                fillcolor='rgba(68, 68, 68, 0.3)',\n",
    "                                fill='tonexty',\n",
    "                                showlegend=False))\n",
    "# marker=dict(size=7, color=\"red\") \n",
    "    a = ''\n",
    "    \n",
    "    if freq=='hourly':\n",
    "        a = 'Hour'\n",
    "        xax = 'Time of day'\n",
    "    elif freq=='daily':\n",
    "        a = 'Day'\n",
    "        xax = 'Date'\n",
    "    elif freq=='weekly':\n",
    "        a = 'Week'\n",
    "        xax = 'Week'\n",
    "    elif freq=='monthly':\n",
    "        a = 'Month'\n",
    "        xax = 'Month, Year'\n",
    "    if cons_agg == 'Average':\n",
    "        title = \"Average Hourly Consumption at UNCG per \"+ a\n",
    "    elif cons_agg == 'Total':\n",
    "        title = \"Total Consumption at UNCG per \"+ a\n",
    "    fig.update_layout(\n",
    "        title_text=title,\n",
    "        title_xanchor=\"center\",\n",
    "        title_font=dict(size=24),\n",
    "        title_x=0.5,\n",
    "        showlegend=True\n",
    "    )\n",
    "    \n",
    "\n",
    "    fig.update_xaxes(title_text=xax)\n",
    "    fig.update_yaxes(title_text=cons_agg+' Energy consumption (KWH)')\n",
    "    fig.update_layout(hovermode=\"x unified\")\n",
    "    \n",
    "    \n",
    "    \n",
    "#################### for task 2 #########################\n",
    "    def get_data_group(freq,act_pred,meter,start_date,end_date):\n",
    "        \n",
    "        cols = ['Actual','Predicted','obs_ci_lower','obs_ci_upper','Datetime']\n",
    "        file_path=all_files_dict[meter]\n",
    "        csv_file = open(file_path)\n",
    "        dff = pd.read_csv(csv_file ,encoding = \"ISO-8859-1\",engine = 'python', sep=',', header=0,names=cols,error_bad_lines=False)\n",
    "        dff['Datetime'] = pd.to_datetime(dff['Datetime'],utc=True,infer_datetime_format=False)\n",
    "#         dff_sel_year = dff[dff.Datetime.dt.year.isin(years) ]\n",
    "        dff_sel_year=dff.loc[(dff['Datetime'] > start_date) & (dff['Datetime'] <= end_date)]\n",
    "\n",
    "#         print(dff_sel_year.head())\n",
    "        if freq=='daily':\n",
    "            dff1 = dff_sel_year.groupby(pd.Grouper(key='Datetime', freq='D'))['Actual','Predicted'].mean().reset_index()\n",
    "        elif freq=='weekly':\n",
    "            dff1 = dff_sel_year.groupby(pd.Grouper(key='Datetime', freq='W'))['Actual','Predicted'].mean().reset_index()\n",
    "        elif freq=='monthly':\n",
    "            dff1 = dff_sel_year.groupby(pd.Grouper(key='Datetime', freq='M'))['Actual','Predicted'].mean().reset_index()\n",
    "        else:# Hourly\n",
    "            dff1 = dff_sel_year\n",
    "        csv_file.close()\n",
    "        return(dff1)\n",
    "    meter_group\n",
    "    from_date='a'\n",
    "    to_date='a'\n",
    "    group_data=get_data_group(freq_group,act_pred,meter,start_date,end_date)\n",
    "    \n",
    "    \n",
    "    fig_group = go.Figure()  \n",
    "    fig_group.add_trace(\n",
    "        go.Scatter(x=group_data['Datetime'],\n",
    "                    y=group_data['Actual'], \n",
    "                    mode='markers', \n",
    "                   line={'dash': 'solid'},\n",
    "                    name='Actual-'+meter_group)\n",
    "    )\n",
    "    fig_group.add_trace(go.Scatter(x=group_data['Datetime'], y=group_data['Predicted'],\n",
    "                        mode='lines',\n",
    "                        line={'dash': 'dash'},\n",
    "                        name='Predicted-'+meter_group))\n",
    "    \n",
    "    \n",
    "    return fig, fig_group\n",
    "\n"
   ]
  },
  {
   "cell_type": "code",
   "execution_count": 8,
   "metadata": {},
   "outputs": [
    {
     "name": "stdout",
     "output_type": "stream",
     "text": [
      "Dash is running on http://127.0.0.1:8050/\n",
      "\n",
      " * Serving Flask app \"__main__\" (lazy loading)\n",
      " * Environment: production\n",
      "   WARNING: This is a development server. Do not use it in a production deployment.\n",
      "   Use a production WSGI server instead.\n",
      " * Debug mode: off\n"
     ]
    },
    {
     "name": "stderr",
     "output_type": "stream",
     "text": [
      " * Running on http://127.0.0.1:8050/ (Press CTRL+C to quit)\n",
      "127.0.0.1 - - [23/Nov/2020 03:10:09] \"\u001b[37mGET / HTTP/1.1\u001b[0m\" 200 -\n",
      "127.0.0.1 - - [23/Nov/2020 03:10:09] \"\u001b[37mGET /_dash-dependencies HTTP/1.1\u001b[0m\" 200 -\n",
      "127.0.0.1 - - [23/Nov/2020 03:10:09] \"\u001b[37mGET /_dash-layout HTTP/1.1\u001b[0m\" 200 -\n"
     ]
    },
    {
     "name": "stdout",
     "output_type": "stream",
     "text": [
      "Chosen values are: Total monthly ['Actual'] ['Baseball'] [2020]\n"
     ]
    },
    {
     "name": "stderr",
     "output_type": "stream",
     "text": [
      "127.0.0.1 - - [23/Nov/2020 03:10:12] \"\u001b[37mPOST /_dash-update-component HTTP/1.1\u001b[0m\" 200 -\n",
      "127.0.0.1 - - [23/Nov/2020 03:11:02] \"\u001b[37mGET / HTTP/1.1\u001b[0m\" 200 -\n",
      "127.0.0.1 - - [23/Nov/2020 03:11:03] \"\u001b[37mGET /_dash-layout HTTP/1.1\u001b[0m\" 200 -\n",
      "127.0.0.1 - - [23/Nov/2020 03:11:03] \"\u001b[37mGET /_dash-dependencies HTTP/1.1\u001b[0m\" 200 -\n"
     ]
    },
    {
     "name": "stdout",
     "output_type": "stream",
     "text": [
      "Chosen values are: Total monthly ['Actual'] ['Baseball'] [2020]\n"
     ]
    },
    {
     "name": "stderr",
     "output_type": "stream",
     "text": [
      "127.0.0.1 - - [23/Nov/2020 03:11:05] \"\u001b[37mPOST /_dash-update-component HTTP/1.1\u001b[0m\" 200 -\n"
     ]
    },
    {
     "name": "stdout",
     "output_type": "stream",
     "text": [
      "Chosen values are: Total monthly ['Actual'] ['Baseball'] [2020, 2018]\n"
     ]
    },
    {
     "name": "stderr",
     "output_type": "stream",
     "text": [
      "127.0.0.1 - - [23/Nov/2020 03:11:13] \"\u001b[37mPOST /_dash-update-component HTTP/1.1\u001b[0m\" 200 -\n"
     ]
    },
    {
     "name": "stdout",
     "output_type": "stream",
     "text": [
      "Chosen values are: Total monthly ['Actual'] ['Baseball'] [2018]\n"
     ]
    },
    {
     "name": "stderr",
     "output_type": "stream",
     "text": [
      "127.0.0.1 - - [23/Nov/2020 03:11:16] \"\u001b[37mPOST /_dash-update-component HTTP/1.1\u001b[0m\" 200 -\n"
     ]
    },
    {
     "name": "stdout",
     "output_type": "stream",
     "text": [
      "Chosen values are: Total monthly ['Actual'] ['Baseball'] [2018, 2016]\n"
     ]
    },
    {
     "name": "stderr",
     "output_type": "stream",
     "text": [
      "127.0.0.1 - - [23/Nov/2020 03:11:25] \"\u001b[37mPOST /_dash-update-component HTTP/1.1\u001b[0m\" 200 -\n"
     ]
    },
    {
     "name": "stdout",
     "output_type": "stream",
     "text": [
      "Chosen values are: Total monthly ['Actual', 'Predicted'] ['Baseball'] [2018, 2016]\n"
     ]
    },
    {
     "name": "stderr",
     "output_type": "stream",
     "text": [
      "127.0.0.1 - - [23/Nov/2020 03:11:28] \"\u001b[37mPOST /_dash-update-component HTTP/1.1\u001b[0m\" 200 -\n"
     ]
    },
    {
     "name": "stdout",
     "output_type": "stream",
     "text": [
      "Chosen values are: Total monthly ['Actual', 'Predicted'] ['Baseball'] [2016]\n"
     ]
    },
    {
     "name": "stderr",
     "output_type": "stream",
     "text": [
      "127.0.0.1 - - [23/Nov/2020 03:11:34] \"\u001b[37mPOST /_dash-update-component HTTP/1.1\u001b[0m\" 200 -\n"
     ]
    },
    {
     "name": "stdout",
     "output_type": "stream",
     "text": [
      "Chosen values are: Total weekly ['Actual', 'Predicted'] ['Baseball'] [2016]\n"
     ]
    },
    {
     "name": "stderr",
     "output_type": "stream",
     "text": [
      "127.0.0.1 - - [23/Nov/2020 03:11:37] \"\u001b[37mPOST /_dash-update-component HTTP/1.1\u001b[0m\" 200 -\n"
     ]
    },
    {
     "name": "stdout",
     "output_type": "stream",
     "text": [
      "Chosen values are: Total daily ['Actual', 'Predicted'] ['Baseball'] [2016]\n"
     ]
    },
    {
     "name": "stderr",
     "output_type": "stream",
     "text": [
      "127.0.0.1 - - [23/Nov/2020 03:11:42] \"\u001b[37mPOST /_dash-update-component HTTP/1.1\u001b[0m\" 200 -\n"
     ]
    },
    {
     "name": "stdout",
     "output_type": "stream",
     "text": [
      "Chosen values are: Total hourly ['Actual', 'Predicted'] ['Baseball'] [2016]\n"
     ]
    },
    {
     "name": "stderr",
     "output_type": "stream",
     "text": [
      "127.0.0.1 - - [23/Nov/2020 03:11:46] \"\u001b[37mPOST /_dash-update-component HTTP/1.1\u001b[0m\" 200 -\n"
     ]
    },
    {
     "name": "stdout",
     "output_type": "stream",
     "text": [
      "Chosen values are: Total daily ['Actual', 'Predicted'] ['Baseball'] [2016]\n"
     ]
    },
    {
     "name": "stderr",
     "output_type": "stream",
     "text": [
      "127.0.0.1 - - [23/Nov/2020 03:11:56] \"\u001b[37mPOST /_dash-update-component HTTP/1.1\u001b[0m\" 200 -\n"
     ]
    },
    {
     "name": "stdout",
     "output_type": "stream",
     "text": [
      "Chosen values are: Total daily ['Actual', 'Predicted'] ['Baseball', 'BaseballFieldSupportBldg'] [2016]\n"
     ]
    },
    {
     "name": "stderr",
     "output_type": "stream",
     "text": [
      "127.0.0.1 - - [23/Nov/2020 03:12:03] \"\u001b[37mPOST /_dash-update-component HTTP/1.1\u001b[0m\" 200 -\n"
     ]
    },
    {
     "name": "stdout",
     "output_type": "stream",
     "text": [
      "Chosen values are: Total daily ['Actual', 'Predicted'] ['Baseball'] [2016]\n"
     ]
    },
    {
     "name": "stderr",
     "output_type": "stream",
     "text": [
      "127.0.0.1 - - [23/Nov/2020 03:12:16] \"\u001b[37mPOST /_dash-update-component HTTP/1.1\u001b[0m\" 200 -\n"
     ]
    },
    {
     "name": "stdout",
     "output_type": "stream",
     "text": [
      "Chosen values are: Total daily ['Predicted'] ['Baseball'] [2016]\n"
     ]
    },
    {
     "name": "stderr",
     "output_type": "stream",
     "text": [
      "127.0.0.1 - - [23/Nov/2020 03:12:21] \"\u001b[37mPOST /_dash-update-component HTTP/1.1\u001b[0m\" 200 -\n"
     ]
    },
    {
     "name": "stdout",
     "output_type": "stream",
     "text": [
      "Chosen values are: Total daily ['Predicted', 'Actual'] ['Baseball'] [2016]\n"
     ]
    },
    {
     "name": "stderr",
     "output_type": "stream",
     "text": [
      "127.0.0.1 - - [23/Nov/2020 03:12:27] \"\u001b[37mPOST /_dash-update-component HTTP/1.1\u001b[0m\" 200 -\n",
      "127.0.0.1 - - [23/Nov/2020 03:14:58] \"\u001b[37mGET / HTTP/1.1\u001b[0m\" 200 -\n",
      "127.0.0.1 - - [23/Nov/2020 03:14:58] \"\u001b[37mGET /_dash-layout HTTP/1.1\u001b[0m\" 200 -\n",
      "127.0.0.1 - - [23/Nov/2020 03:14:58] \"\u001b[37mGET /_dash-dependencies HTTP/1.1\u001b[0m\" 200 -\n"
     ]
    },
    {
     "name": "stdout",
     "output_type": "stream",
     "text": [
      "Chosen values are: Total monthly ['Actual'] ['Baseball'] [2020]\n"
     ]
    },
    {
     "name": "stderr",
     "output_type": "stream",
     "text": [
      "127.0.0.1 - - [23/Nov/2020 03:15:01] \"\u001b[37mPOST /_dash-update-component HTTP/1.1\u001b[0m\" 200 -\n"
     ]
    }
   ],
   "source": [
    "if __name__ == '__main__':\n",
    "    #app.run_server(debug=True)\n",
    "    app.run_server(debug=False,host = '127.0.0.1')\n",
    "    \n",
    "    \n",
    "    "
   ]
  },
  {
   "cell_type": "code",
   "execution_count": null,
   "metadata": {},
   "outputs": [],
   "source": []
  }
 ],
 "metadata": {
  "kernelspec": {
   "display_name": "Python 3",
   "language": "python",
   "name": "python3"
  },
  "language_info": {
   "codemirror_mode": {
    "name": "ipython",
    "version": 3
   },
   "file_extension": ".py",
   "mimetype": "text/x-python",
   "name": "python",
   "nbconvert_exporter": "python",
   "pygments_lexer": "ipython3",
   "version": "3.7.4"
  }
 },
 "nbformat": 4,
 "nbformat_minor": 2
}
