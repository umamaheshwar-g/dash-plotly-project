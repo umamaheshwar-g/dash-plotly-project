{
 "cells": [
  {
   "cell_type": "code",
   "execution_count": 10,
   "metadata": {},
   "outputs": [],
   "source": [
    "import pandas as pd\n",
    "from datetime import datetime"
   ]
  },
  {
   "cell_type": "code",
   "execution_count": 27,
   "metadata": {},
   "outputs": [],
   "source": [
    "csv_file = open(r'C:\\Users\\umama\\shravya python assignment\\Analysis\\BaseballFieldSupportBldg_results.csv')\n",
    "cols = ['Actual','Predicted','obs_ci_lower','obs_ci_upper','Datetime']\n",
    "\n",
    "dff = pd.read_csv(csv_file, index_col='Datetime' ,encoding = \"ISO-8859-1\",engine = 'python', sep=',', header=0,names=cols,error_bad_lines=False)\n"
   ]
  },
  {
   "cell_type": "code",
   "execution_count": 6,
   "metadata": {},
   "outputs": [
    {
     "data": {
      "text/plain": [
       "str"
      ]
     },
     "execution_count": 6,
     "metadata": {},
     "output_type": "execute_result"
    }
   ],
   "source": [
    "type(dff.index[1])"
   ]
  },
  {
   "cell_type": "code",
   "execution_count": 36,
   "metadata": {},
   "outputs": [],
   "source": [
    "format = '%Y-%m-%d %H:%M:%S'\n",
    "dff.index= pd.to_datetime(dff.index,utc=True,format=format)\n"
   ]
  },
  {
   "cell_type": "code",
   "execution_count": 13,
   "metadata": {},
   "outputs": [
    {
     "data": {
      "text/plain": [
       "datetime.datetime"
      ]
     },
     "execution_count": 13,
     "metadata": {},
     "output_type": "execute_result"
    }
   ],
   "source": [
    "type(dff.index[1])"
   ]
  },
  {
   "cell_type": "code",
   "execution_count": 37,
   "metadata": {},
   "outputs": [
    {
     "data": {
      "text/html": [
       "<div>\n",
       "<style scoped>\n",
       "    .dataframe tbody tr th:only-of-type {\n",
       "        vertical-align: middle;\n",
       "    }\n",
       "\n",
       "    .dataframe tbody tr th {\n",
       "        vertical-align: top;\n",
       "    }\n",
       "\n",
       "    .dataframe thead th {\n",
       "        text-align: right;\n",
       "    }\n",
       "</style>\n",
       "<table border=\"1\" class=\"dataframe\">\n",
       "  <thead>\n",
       "    <tr style=\"text-align: right;\">\n",
       "      <th></th>\n",
       "      <th>Actual</th>\n",
       "      <th>Predicted</th>\n",
       "    </tr>\n",
       "    <tr>\n",
       "      <th>Datetime</th>\n",
       "      <th></th>\n",
       "      <th></th>\n",
       "    </tr>\n",
       "  </thead>\n",
       "  <tbody>\n",
       "    <tr>\n",
       "      <td>2015-06-07 00:00:00+00:00</td>\n",
       "      <td>1.018293</td>\n",
       "      <td>0.988623</td>\n",
       "    </tr>\n",
       "    <tr>\n",
       "      <td>2015-06-14 00:00:00+00:00</td>\n",
       "      <td>1.517857</td>\n",
       "      <td>1.341153</td>\n",
       "    </tr>\n",
       "    <tr>\n",
       "      <td>2015-06-21 00:00:00+00:00</td>\n",
       "      <td>2.073620</td>\n",
       "      <td>1.510015</td>\n",
       "    </tr>\n",
       "    <tr>\n",
       "      <td>2015-06-28 00:00:00+00:00</td>\n",
       "      <td>1.746914</td>\n",
       "      <td>1.409686</td>\n",
       "    </tr>\n",
       "    <tr>\n",
       "      <td>2015-07-05 00:00:00+00:00</td>\n",
       "      <td>1.530120</td>\n",
       "      <td>1.640105</td>\n",
       "    </tr>\n",
       "    <tr>\n",
       "      <td>...</td>\n",
       "      <td>...</td>\n",
       "      <td>...</td>\n",
       "    </tr>\n",
       "    <tr>\n",
       "      <td>2020-10-18 00:00:00+00:00</td>\n",
       "      <td>0.678788</td>\n",
       "      <td>4.052555</td>\n",
       "    </tr>\n",
       "    <tr>\n",
       "      <td>2020-10-25 00:00:00+00:00</td>\n",
       "      <td>0.727273</td>\n",
       "      <td>4.022411</td>\n",
       "    </tr>\n",
       "    <tr>\n",
       "      <td>2020-11-01 00:00:00+00:00</td>\n",
       "      <td>0.656627</td>\n",
       "      <td>4.025558</td>\n",
       "    </tr>\n",
       "    <tr>\n",
       "      <td>2020-11-08 00:00:00+00:00</td>\n",
       "      <td>0.724551</td>\n",
       "      <td>4.316859</td>\n",
       "    </tr>\n",
       "    <tr>\n",
       "      <td>2020-11-15 00:00:00+00:00</td>\n",
       "      <td>0.811881</td>\n",
       "      <td>3.994318</td>\n",
       "    </tr>\n",
       "  </tbody>\n",
       "</table>\n",
       "<p>285 rows × 2 columns</p>\n",
       "</div>"
      ],
      "text/plain": [
       "                             Actual  Predicted\n",
       "Datetime                                      \n",
       "2015-06-07 00:00:00+00:00  1.018293   0.988623\n",
       "2015-06-14 00:00:00+00:00  1.517857   1.341153\n",
       "2015-06-21 00:00:00+00:00  2.073620   1.510015\n",
       "2015-06-28 00:00:00+00:00  1.746914   1.409686\n",
       "2015-07-05 00:00:00+00:00  1.530120   1.640105\n",
       "...                             ...        ...\n",
       "2020-10-18 00:00:00+00:00  0.678788   4.052555\n",
       "2020-10-25 00:00:00+00:00  0.727273   4.022411\n",
       "2020-11-01 00:00:00+00:00  0.656627   4.025558\n",
       "2020-11-08 00:00:00+00:00  0.724551   4.316859\n",
       "2020-11-15 00:00:00+00:00  0.811881   3.994318\n",
       "\n",
       "[285 rows x 2 columns]"
      ]
     },
     "execution_count": 37,
     "metadata": {},
     "output_type": "execute_result"
    }
   ],
   "source": [
    "dff.groupby(pd.Grouper(freq='W'))['Actual','Predicted'].mean()\n"
   ]
  }
 ],
 "metadata": {
  "kernelspec": {
   "display_name": "Python 3",
   "language": "python",
   "name": "python3"
  },
  "language_info": {
   "codemirror_mode": {
    "name": "ipython",
    "version": 3
   },
   "file_extension": ".py",
   "mimetype": "text/x-python",
   "name": "python",
   "nbconvert_exporter": "python",
   "pygments_lexer": "ipython3",
   "version": "3.7.4"
  }
 },
 "nbformat": 4,
 "nbformat_minor": 2
}
