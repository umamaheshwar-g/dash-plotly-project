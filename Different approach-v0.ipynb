{
 "cells": [
  {
   "cell_type": "code",
   "execution_count": 1,
   "metadata": {},
   "outputs": [],
   "source": [
    "import pandas as pd\n",
    "import glob\n",
    "import numpy as np\n",
    "import plotly.io as pio\n",
    "import plotly.graph_objects as go\n",
    "import plotly.express as px\n",
    "import dash\n",
    "import dash_core_components as dcc\n",
    "import dash_html_components as html\n",
    "from dash.dependencies import Input, Output\n",
    "from datetime import datetime\n",
    "from dateutil import tz, parser\n",
    "import warnings\n",
    "warnings.filterwarnings('ignore')\n",
    "import os"
   ]
  },
  {
   "cell_type": "code",
   "execution_count": 2,
   "metadata": {},
   "outputs": [],
   "source": [
    "# path = '../Data/Analysis' # use your path\n",
    "path = r'C:\\Users\\umama\\shravya python assignment\\Analysis'\n",
    "all_files = glob.glob(path + \"/*.csv\")\n",
    "all_files_dict={}\n",
    "\n",
    "for csv in all_files:\n",
    "    meter_name=os.path.basename(csv).replace('_results.csv','')\n",
    "    all_files_dict[meter_name]=os.path.abspath(csv)\n"
   ]
  },
  {
   "cell_type": "code",
   "execution_count": 3,
   "metadata": {},
   "outputs": [
    {
     "data": {
      "text/html": [
       "<div>\n",
       "<style scoped>\n",
       "    .dataframe tbody tr th:only-of-type {\n",
       "        vertical-align: middle;\n",
       "    }\n",
       "\n",
       "    .dataframe tbody tr th {\n",
       "        vertical-align: top;\n",
       "    }\n",
       "\n",
       "    .dataframe thead th {\n",
       "        text-align: right;\n",
       "    }\n",
       "</style>\n",
       "<table border=\"1\" class=\"dataframe\">\n",
       "  <thead>\n",
       "    <tr style=\"text-align: right;\">\n",
       "      <th></th>\n",
       "      <th>Building_Name</th>\n",
       "      <th>Label</th>\n",
       "    </tr>\n",
       "  </thead>\n",
       "  <tbody>\n",
       "    <tr>\n",
       "      <th>0</th>\n",
       "      <td>Baseball</td>\n",
       "      <td>Baseball Stadium (177) - Main Meter</td>\n",
       "    </tr>\n",
       "    <tr>\n",
       "      <th>1</th>\n",
       "      <td>BryanBldg</td>\n",
       "      <td>Bryan Building (082) - Main Meter</td>\n",
       "    </tr>\n",
       "    <tr>\n",
       "      <th>2</th>\n",
       "      <td>CampusSupplyStore</td>\n",
       "      <td>Campus Supply Store (050) - Main Meter</td>\n",
       "    </tr>\n",
       "    <tr>\n",
       "      <th>3</th>\n",
       "      <td>CarmichaelBldg</td>\n",
       "      <td>Carmichael Building (032) - Main Meter</td>\n",
       "    </tr>\n",
       "    <tr>\n",
       "      <th>4</th>\n",
       "      <td>ChemicalSafety</td>\n",
       "      <td>Chemical Safety Facility (174) - Main Meter</td>\n",
       "    </tr>\n",
       "    <tr>\n",
       "      <th>...</th>\n",
       "      <td>...</td>\n",
       "      <td>...</td>\n",
       "    </tr>\n",
       "    <tr>\n",
       "      <th>76</th>\n",
       "      <td>StudentRecCenterBasement</td>\n",
       "      <td>SRC Basement</td>\n",
       "    </tr>\n",
       "    <tr>\n",
       "      <th>77</th>\n",
       "      <td>StudentRecSiteLts222</td>\n",
       "      <td>SRC Site Lights 222</td>\n",
       "    </tr>\n",
       "    <tr>\n",
       "      <th>78</th>\n",
       "      <td>TennisCourts</td>\n",
       "      <td>Tennis Courts</td>\n",
       "    </tr>\n",
       "    <tr>\n",
       "      <th>79</th>\n",
       "      <td>UnderpassNorth</td>\n",
       "      <td>Underpass North</td>\n",
       "    </tr>\n",
       "    <tr>\n",
       "      <th>80</th>\n",
       "      <td>WalkerDeckLighting</td>\n",
       "      <td>Walker Ave Parking Deck (141) - Lighting Submeter</td>\n",
       "    </tr>\n",
       "  </tbody>\n",
       "</table>\n",
       "<p>81 rows × 2 columns</p>\n",
       "</div>"
      ],
      "text/plain": [
       "               Building_Name  \\\n",
       "0                   Baseball   \n",
       "1                  BryanBldg   \n",
       "2          CampusSupplyStore   \n",
       "3             CarmichaelBldg   \n",
       "4             ChemicalSafety   \n",
       "..                       ...   \n",
       "76  StudentRecCenterBasement   \n",
       "77      StudentRecSiteLts222   \n",
       "78              TennisCourts   \n",
       "79            UnderpassNorth   \n",
       "80        WalkerDeckLighting   \n",
       "\n",
       "                                                Label  \n",
       "0                 Baseball Stadium (177) - Main Meter  \n",
       "1                   Bryan Building (082) - Main Meter  \n",
       "2              Campus Supply Store (050) - Main Meter  \n",
       "3              Carmichael Building (032) - Main Meter  \n",
       "4        Chemical Safety Facility (174) - Main Meter   \n",
       "..                                                ...  \n",
       "76                                       SRC Basement  \n",
       "77                                SRC Site Lights 222  \n",
       "78                                      Tennis Courts  \n",
       "79                                   Underpass North   \n",
       "80  Walker Ave Parking Deck (141) - Lighting Submeter  \n",
       "\n",
       "[81 rows x 2 columns]"
      ]
     },
     "execution_count": 3,
     "metadata": {},
     "output_type": "execute_result"
    }
   ],
   "source": [
    "# labels = pd.read_csv('../data/Meter Names and Labels.csv')\n",
    "labels = pd.read_csv(r'C:\\Users\\umama\\shravya python assignment\\Meter Names and Labels.csv')\n",
    "labels = labels.rename(columns={\"Name\": \"Building_Name\"})\n",
    "labels['Building_Name'] = labels['Building_Name'].str.replace(\"'\" , \" \")\n",
    "labels['Building_Name'] = labels['Building_Name'].str.replace('-' , \"\")\n",
    "labels['Building_Name'] = labels['Building_Name'].str.replace('\"Spencer Hall\"' , '')\n",
    "labels['Building_Name'] = labels['Building_Name'].str.replace('_kWh' , \"\")\n",
    "labels['Building_Name'] = labels['Building_Name'].str.strip()\n",
    "labels\n",
    "# print(labels.Building_Name.unique())"
   ]
  },
  {
   "cell_type": "code",
   "execution_count": 4,
   "metadata": {},
   "outputs": [
    {
     "name": "stdout",
     "output_type": "stream",
     "text": [
      "               Building_Name  \\\n",
      "0                   Baseball   \n",
      "1                  BryanBldg   \n",
      "2          CampusSupplyStore   \n",
      "3             CarmichaelBldg   \n",
      "4             ChemicalSafety   \n",
      "..                       ...   \n",
      "76  StudentRecCenterBasement   \n",
      "77      StudentRecSiteLts222   \n",
      "78              TennisCourts   \n",
      "79            UnderpassNorth   \n",
      "80        WalkerDeckLighting   \n",
      "\n",
      "                                                Label  \n",
      "0                 Baseball Stadium (177) - Main Meter  \n",
      "1                   Bryan Building (082) - Main Meter  \n",
      "2              Campus Supply Store (050) - Main Meter  \n",
      "3              Carmichael Building (032) - Main Meter  \n",
      "4        Chemical Safety Facility (174) - Main Meter   \n",
      "..                                                ...  \n",
      "76                                       SRC Basement  \n",
      "77                                SRC Site Lights 222  \n",
      "78                                      Tennis Courts  \n",
      "79                                   Underpass North   \n",
      "80  Walker Ave Parking Deck (141) - Lighting Submeter  \n",
      "\n",
      "[81 rows x 2 columns]\n",
      "[{'label': 'Baseball Stadium (177) - Main Meter', 'value': 'Baseball'}, {'label': 'Bryan Building (082) - Main Meter', 'value': 'BryanBldg'}, {'label': 'Campus Supply Store (050) - Main Meter', 'value': 'CampusSupplyStore'}, {'label': 'Carmichael Building (032) - Main Meter', 'value': 'CarmichaelBldg'}, {'label': 'Chemical Safety Facility (174) - Main Meter ', 'value': 'ChemicalSafety'}, {'label': 'Cone Art Building (099) - Main Meter', 'value': 'ConeArtBldg'}, {'label': 'Curry Building (045) - Main Meter', 'value': 'CurryBldg'}, {'label': 'Eberhart Building (063) - Main Meter', 'value': 'Eberhart'}, {'label': 'Elliott University Center (040) - Main Meter', 'value': 'ElliottUnivCenter'}, {'label': 'Graham Building (058) - Main Meter', 'value': 'Graham'}, {'label': 'Gray Home Management House (059) - Main Meter', 'value': 'GrayHome'}, {'label': 'Grogan Residence Hall (020) - Main Meter', 'value': 'GroganHall'}, {'label': 'Guilford Residence Hall (025) - Main Meter', 'value': 'GuilfordResHall'}, {'label': 'Coleman (HHP) Building (098) - Main Meter', 'value': 'HHP'}, {'label': 'Soccer Stadium (135) - Main Meter', 'value': 'HHPSoccerField'}, {'label': 'Jackson Library (039) - Main Meter-1 ', 'value': 'JLibraryOldEastAtDoor'}, {'label': 'Jackson Library (039) - Main Meter-2 Old East Building', 'value': 'JLibraryOldEastPanelP'}, {'label': 'Jackson Library Chiller (051) - Main Meter', 'value': 'JacksonLibChiller'}, {'label': 'Mary Foust Residence Hall (026) - Main Meter', 'value': 'MaryFoustHall'}, {'label': 'McIver Chiller Plant (168) -Meter Service-3', 'value': 'McIverDeckChillerSvc3'}, {'label': 'McIver Street Parking Deck (169) - Main Meter', 'value': 'McIverStPrkgDeck'}, {'label': 'Moore Nursing Building (056) - Main Meter', 'value': 'MooreNursingBldg'}, {'label': 'Moore Strong Residence Hall (013) - Main Meter', 'value': 'MooreStrongResHall'}, {'label': 'Moore Strong Residence Hall (013) -Site Light 011 Submeter ', 'value': 'MooreStrongSiteLts011'}, {'label': 'Moore Strong Residence Hall (013) -Site Light 127 Submeter', 'value': 'MooreStrongSiteLts127'}, {'label': 'Mossman Building (080) - Main Meter', 'value': 'Mossman'}, {'label': 'Oakland Parking Deck (252) - Main Meter', 'value': 'OaklandAveParkingDeck'}, {'label': 'Petty Building (029) - Main Meter', 'value': 'PettyBldg'}, {'label': 'Reynolds Residence Hall (019) - Main Meter', 'value': 'ReynoldsHall'}, {'label': 'Music Building (170) - Main Meter', 'value': 'SchOfMusic'}, {'label': 'Sink Maintenance & Grounds Building (048) - Main Meter', 'value': 'SinkGroundsBldg'}, {'label': 'Sink Maintenance Building (048) -Sink Offices Submeter ', 'value': 'SinkOffices'}, {'label': 'North & South Spencer Residence Hall (024 & 023) - Main Meter', 'value': 'Spencer'}, {'label': 'Spring Garden Apartments (237) - Previously  Food Court Submeter ', 'value': 'SpringGardenAptsCStore'}, {'label': 'UNCG Steam Plant (049) - Main Meter', 'value': 'SteamPlant'}, {'label': 'Stone Building (031) - Main Meter', 'value': 'StoneBuilding'}, {'label': '1510 Walker Ave. Building (134) - Main Meter ', 'value': 'StudentRecCenterMain'}, {'label': 'Sullivan Science Building (178) - Main Meter', 'value': 'SullivanScience'}, {'label': 'Taylor Theatre (035) - Main Meter', 'value': 'TaylorTheatre'}, {'label': 'Tower Village Apartments (137) - Main Meter', 'value': 'TowerVillage'}, {'label': 'Armfield-Preyer Admissions and Visitor Center (041) - Main Meter', 'value': 'VisitorCenter'}, {'label': 'Walker Ave Parking Deck (141) - Main Meter', 'value': 'WalkerDeck'}, {'label': 'Weil-Winfield Residence Hall (236) - Main Meter', 'value': 'WeilWinfield'}, {'label': 'Recreational Field Support Building (257) - Main Meter', 'value': 'BaseballFieldSupportBldg'}, {'label': 'Baseball Pavillion (248) -Lighting Submeter', 'value': 'BaseballStadiumPrkLights'}, {'label': 'Recreational Field Track & Sports Area (260) -Lighting Submeter', 'value': 'BaseballStadiumRecFieldLights'}, {'label': 'Baseball Stadium (177) - Well Pump Submeter', 'value': 'BaseballStadiumWellPump'}, {'label': 'Bryan Building (082) - Data Center Submeter ', 'value': 'BryanDataCenter'}, {'label': 'Gove Student Health Center (016) - Site Lights Submeter', 'value': 'GoveSiteLighting'}, {'label': 'UNCG Spartan Softball Stadium (254) - Main Meter', 'value': 'HHPSoftballStadium'}, {'label': 'Hinshaw Residence Hall (005) - Site Lights Submeter', 'value': 'HinshawSiteLights'}, {'label': 'Jackson Library (039) - Main Meter-3 Tower ', 'value': 'JacksonLibraryTower'}, {'label': 'McIver Street Parking Deck (169) - Lighting Submeter ', 'value': 'McIverStPrkgDeckLights'}, {'label': 'McNutt Building (057) - Server Room EDPA Submeter', 'value': 'McNuttDataCenterEDPA'}, {'label': 'McNutt Building (057) - Server Room EDPB Submeter', 'value': 'McNuttDataCenterEDPB'}, {'label': 'McIver House Nursing School Annex (030) - Building Main Meter', 'value': 'MooreNursingAnnex'}, {'label': 'Moore-Strong Residence Hall (013) -Sports Submeter', 'value': 'MooreStrongSports'}, {'label': 'North Drive Child Care Center (027) - Building Main Meter ', 'value': 'NDChildCare'}, {'label': 'Ragsdale-Mendenhall Residence Hall (234) - Lighting Submeter ', 'value': 'RagsdaleMendenhallLights'}, {'label': 'Kaplan Center for Wellness (308) -Pool Area Lighting Submeter', 'value': 'SRC_1H1A'}, {'label': 'Kaplan Center for Wellness (308) -Concourse Area Lighting Submeter', 'value': 'SRC_2H1A'}, {'label': 'Kaplan Center for Wellness (308) - Main Gym Lighting Submeter', 'value': 'SRC_2H3A'}, {'label': 'Kaplan Center for Wellness (308) -Fitness Area and Three Court Gym Lighting Submeter', 'value': 'SRC_2H4A'}, {'label': 'Kaplan Center for Wellness (308) - Track Lighting Submeter', 'value': 'SRC_2L1B'}, {'label': 'Kaplan Center for Wellness (308) - Cardio Area Lighting Submeter', 'value': 'SRC_3H3A'}, {'label': 'Kaplan Center Utilities Building (309) -Main CUB   ', 'value': 'SRC_CUB1'}, {'label': 'SRC GenATS', 'value': 'SRC_GenATS'}, {'label': 'Kaplan Center for Wellness (308) - Main Kaplan Building  ', 'value': 'SRC_Main'}, {'label': 'Kaplan Center for Wellness (308) - Pool Equipment Submeter ', 'value': 'SRC_Pool'}, {'label': \"\\xa0'SRC_TX_2L1ABC'\\xa0\", 'value': 'SRC_TX_2L1ABC'}, {'label': \"\\xa0'SRC_TX_2L3ABC'\", 'value': 'SRC_TX_2L3ABC'}, {'label': \"\\xa0'SRC_TX_2L4ABC'\", 'value': 'SRC_TX_2L4ABC'}, {'label': \"\\xa0'SRC_TX_3L3AB'\", 'value': 'SRC_TX_3L3AB'}, {'label': 'Spencer Honors', 'value': 'SpencerHonors'}, {'label': 'North & South Spencer (024 & 023) -Site Lighting Submeter', 'value': 'SpencerSiteLts'}, {'label': 'Spring Garden Apartments (237) - Parking Submeter ', 'value': 'SpringGardenPrkgDeck'}, {'label': 'SRC Basement', 'value': 'StudentRecCenterBasement'}, {'label': 'SRC Site Lights 222', 'value': 'StudentRecSiteLts222'}, {'label': 'Tennis Courts', 'value': 'TennisCourts'}, {'label': 'Underpass North ', 'value': 'UnderpassNorth'}, {'label': 'Walker Ave Parking Deck (141) - Lighting Submeter', 'value': 'WalkerDeckLighting'}]\n"
     ]
    }
   ],
   "source": [
    "# find building names\n",
    "building_options=[]\n",
    "build_name = {}\n",
    "print(labels)\n",
    "for index, row in labels.iterrows():\n",
    "#     print(row['c1'], row['c2'])\n",
    "    building_options.append({'label':row['Label'],'value':row['Building_Name']})\n",
    "print(building_options)\n",
    "# for building_name in list(labels.Label.unique()):\n",
    "#     building_options.append({'label':building_name,'value':building_name})\n",
    "   \n",
    "# year options\n",
    "year_options = []\n",
    "years = [2015,2016,2017,2018,2019,2020]\n",
    "for year in years:\n",
    "    year_options.append({'label':year,'value':year})\n"
   ]
  },
  {
   "cell_type": "code",
   "execution_count": null,
   "metadata": {},
   "outputs": [],
   "source": []
  },
  {
   "cell_type": "code",
   "execution_count": 5,
   "metadata": {},
   "outputs": [],
   "source": [
    "app = dash.Dash(__name__)\n",
    "# App layout\n",
    "app.layout = html.Div([\n",
    "    \n",
    "    html.H1(\"UNCG ENERGY CONSUMPTION DASHBOARD\", style={'text-align': 'center'}),\n",
    "    \n",
    "    html.Label(\"CONSUMPTION\", style={'text-align': 'center'}),\n",
    "    \n",
    "    dcc.RadioItems(id='consumption',\n",
    "        options=[\n",
    "            {'label': 'Total', 'value': 'Total'},\n",
    "            {'label': 'Average', 'value': 'Average'}\n",
    "        ],\n",
    "        value='Total'\n",
    "    ),\n",
    "    \n",
    "    html.Label(\"Frequency\", style={'text-align': 'center'}),\n",
    "    \n",
    "    dcc.RadioItems(id='freq',\n",
    "        options=[\n",
    "            {'label': 'Hourly', 'value': 'hourly'},\n",
    "            {'label': 'Daily',  'value': 'daily'},\n",
    "            {'label': 'Weekly', 'value': 'weekly'},\n",
    "            {'label': 'Monthly','value': 'monthly'}\n",
    "        ],\n",
    "        value='monthly'\n",
    "    ),\n",
    "    \n",
    "    dcc.Checklist(id='check',\n",
    "    options=[\n",
    "        {'label': 'Actual', 'value': 'Actual'},\n",
    "        {'label': 'Predicted', 'value': 'Predicted'}\n",
    "    ],\n",
    "    value=['Actual']),\n",
    "    \n",
    "    dcc.Dropdown(\n",
    "        id='meters',\n",
    "        options=building_options,\n",
    "        value=['Baseball'],\n",
    "        multi=True),\n",
    "    ## Added Change1   ######\n",
    "    html.Label(\"Year\", style={'text-align': 'center'}),\n",
    "    ###### Added end #######\n",
    "    dcc.Checklist(id='years',\n",
    "    options=year_options,\n",
    "    value=[2020],\n",
    "    labelStyle={'display': 'inline-block'}), \n",
    "    \n",
    "    html.Div(id='dd-output-container'),\n",
    "    \n",
    "    html.Div(id='output_container', children=[]),\n",
    "    \n",
    "    html.Br(),\n",
    "\n",
    "    dcc.Graph(id='predicted_graph', figure={})\n",
    "\n",
    "])\n"
   ]
  },
  {
   "cell_type": "code",
   "execution_count": 6,
   "metadata": {},
   "outputs": [],
   "source": [
    "# Connect the Plotly graphs with Dash Components\n",
    "@app.callback(\n",
    "    [Output(component_id='output_container', component_property='children'),\n",
    "     Output(component_id='predicted_graph', component_property='figure')],\n",
    "    [Input(component_id='consumption', component_property='value'),\n",
    "    Input(component_id='freq', component_property='value'),\n",
    "    Input(component_id='check', component_property='value'),\n",
    "    Input(component_id='meters', component_property='value'),\n",
    "    Input(component_id='years', component_property='value')]\n",
    ")\n",
    "def update_graph(cons_agg,freq,act_pred,meters,years):\n",
    "    print('Chosen values are:',cons_agg,freq,act_pred,meters,years)\n",
    "\n",
    "    container = \"The chosen values by user are: {}\".format(freq)\n",
    "\n",
    "\n",
    "    def get_data(cons_agg,freq,act_pred,meter,years):\n",
    "        \n",
    "        cols = ['Actual','Predicted','obs_ci_lower','obs_ci_upper','Datetime']\n",
    "        file_path=all_files_dict[meter]\n",
    "        csv_file = open(file_path)\n",
    "        dff = pd.read_csv(csv_file ,encoding = \"ISO-8859-1\",engine = 'python', sep=',', header=0,names=cols,error_bad_lines=False)\n",
    "        dff['Datetime'] = pd.to_datetime(dff['Datetime'],utc=True,infer_datetime_format=False)\n",
    "        dff_sel_year = dff[dff.Datetime.dt.year.isin(years) ]\n",
    "#         print(dff_sel_year.head())\n",
    "        \n",
    "        if freq=='daily':\n",
    "            if cons_agg == 'Total':\n",
    "                dff1 = dff_sel_year.groupby(pd.Grouper(key='Datetime', freq='D'))['Actual','Predicted','obs_ci_upper','obs_ci_lower'].sum().reset_index()\n",
    "            else:\n",
    "                dff1 = dff_sel_year.groupby(pd.Grouper(key='Datetime', freq='D'))['Actual','Predicted','obs_ci_upper','obs_ci_lower'].mean().reset_index()\n",
    "\n",
    "        elif freq=='weekly':\n",
    "            if cons_agg == 'Total':\n",
    "                dff1 = dff_sel_year.groupby(pd.Grouper(key='Datetime', freq='W'))['Actual','Predicted','obs_ci_upper','obs_ci_lower'].sum().reset_index()\n",
    "            else:\n",
    "                dff1 = dff_sel_year.groupby(pd.Grouper(key='Datetime', freq='W'))['Actual','Predicted','obs_ci_upper','obs_ci_lower'].mean().reset_index()\n",
    "        elif freq=='monthly':\n",
    "            if cons_agg == 'Total':\n",
    "                dff1=dff_sel_year.groupby(pd.Grouper(key='Datetime',freq='M'))['Actual','Predicted','obs_ci_upper','obs_ci_lower'].sum().reset_index()\n",
    "            else:\n",
    "                dff1 = dff_sel_year.groupby(pd.Grouper(key='Datetime', freq='M'))['Actual','Predicted','obs_ci_upper','obs_ci_lower'].mean().reset_index()\n",
    "        else:\n",
    "            # Hourly\n",
    "            if cons_agg == 'Total':\n",
    "                dff1 = dff_sel_year\n",
    "            else:\n",
    "                dff1 = dff_sel_year\n",
    "        csv_file.close()\n",
    "        return(dff1)\n",
    "\n",
    "    \n",
    "    if type(meters)==str:\n",
    "        meters=[meters]\n",
    "    fig = go.Figure()   \n",
    "    for meter in meters:\n",
    "        \n",
    "        data=get_data(cons_agg,freq,act_pred,meter,years)\n",
    "        if 'Actual' in act_pred:     \n",
    "#             fig = px.scatter(x=data['Datetime'], y=data['Actual'],)\n",
    "            fig.add_trace(\n",
    "                go.Scatter(x=data['Datetime'],\n",
    "                            y=data['Actual'], \n",
    "                            mode='lines+markers', line={'dash': 'solid'},\n",
    "                            name='Actual-'+meter)\n",
    "            )\n",
    "        if 'Predicted' in act_pred:\n",
    "            fig.add_trace(go.Scatter(x=data['Datetime'], y=data['Predicted'],\n",
    "                                mode='lines+markers',\n",
    "                                line={'dash': 'dash'},\n",
    "                                name='Predicted-'+meter))\n",
    "            fig.add_trace(go.Scatter(\n",
    "                                name='Upper Bound',\n",
    "                                x=data['Datetime'],\n",
    "                                y=data['obs_ci_upper'],\n",
    "                                mode='lines',\n",
    "                                marker=dict(color=\"#444\"),\n",
    "                                line=dict(width=0),\n",
    "                                showlegend=False))\n",
    "            fig.add_trace(go.Scatter(\n",
    "                                name='Lower Bound',\n",
    "                                x=data['Datetime'],\n",
    "                                y=data['obs_ci_lower'],\n",
    "                                marker=dict(color=\"#444\"),\n",
    "                                line=dict(width=0),\n",
    "                                mode='lines',\n",
    "                                fillcolor='rgba(68, 68, 68, 0.3)',\n",
    "                                fill='tonexty',\n",
    "                                showlegend=False))\n",
    "# marker=dict(size=7, color=\"red\") \n",
    "    ###### modified Change2 start ##########\n",
    "    a = ''\n",
    "    \n",
    "    if freq=='hourly':\n",
    "        a = 'Hour'\n",
    "        xax = 'Time of day'\n",
    "    elif freq=='daily':\n",
    "        a = 'Day'\n",
    "        xax = 'Date'\n",
    "    elif freq=='weekly':\n",
    "        a = 'Week'\n",
    "        xax = 'Week'\n",
    "    elif freq=='monthly':\n",
    "        a = 'Month'\n",
    "        xax = 'Month, Year'\n",
    "    if cons_agg = 'Average':\n",
    "        title = \"Average Hourly Consumption at UNCG per \"+ a\n",
    "    else cons_agg = 'Total':\n",
    "        title = \"Total Consumption at UNCG per \"+ a\n",
    "    fig.update_layout(\n",
    "        title_text=title,\n",
    "        title_xanchor=\"center\",\n",
    "        title_font=dict(size=24),\n",
    "        title_x=0.5,\n",
    "        showlegend=True\n",
    "    )\n",
    "    \n",
    "\n",
    "    fig.update_xaxes(title_text=xax)\n",
    "    fig.update_yaxes(title_text=cons_agg+' Energy consumption (KWH)')\n",
    "    fig.update_layout(hovermode=\"x unified\")\n",
    "    ############ modified Change2 end#####\n",
    "    return container, fig\n",
    "\n"
   ]
  },
  {
   "cell_type": "code",
   "execution_count": null,
   "metadata": {},
   "outputs": [
    {
     "name": "stdout",
     "output_type": "stream",
     "text": [
      "Dash is running on http://127.0.0.1:8050/\n",
      "\n",
      " * Serving Flask app \"__main__\" (lazy loading)\n",
      " * Environment: production\n",
      "   WARNING: This is a development server. Do not use it in a production deployment.\n",
      "   Use a production WSGI server instead.\n",
      " * Debug mode: off\n"
     ]
    },
    {
     "name": "stderr",
     "output_type": "stream",
     "text": [
      " * Running on http://127.0.0.1:8050/ (Press CTRL+C to quit)\n",
      "127.0.0.1 - - [22/Nov/2020 03:47:03] \"\u001b[37mGET / HTTP/1.1\u001b[0m\" 200 -\n",
      "127.0.0.1 - - [22/Nov/2020 03:47:03] \"\u001b[37mGET /_dash-layout HTTP/1.1\u001b[0m\" 200 -\n",
      "127.0.0.1 - - [22/Nov/2020 03:47:03] \"\u001b[37mGET /_dash-dependencies HTTP/1.1\u001b[0m\" 200 -\n"
     ]
    },
    {
     "name": "stdout",
     "output_type": "stream",
     "text": [
      "Chosen values are: Total monthly ['Actual'] ['Baseball'] [2020]\n"
     ]
    },
    {
     "name": "stderr",
     "output_type": "stream",
     "text": [
      "127.0.0.1 - - [22/Nov/2020 03:47:05] \"\u001b[37mPOST /_dash-update-component HTTP/1.1\u001b[0m\" 200 -\n"
     ]
    },
    {
     "name": "stdout",
     "output_type": "stream",
     "text": [
      "Chosen values are: Total monthly ['Actual', 'Predicted'] ['Baseball'] [2020]\n"
     ]
    },
    {
     "name": "stderr",
     "output_type": "stream",
     "text": [
      "127.0.0.1 - - [22/Nov/2020 03:47:08] \"\u001b[37mPOST /_dash-update-component HTTP/1.1\u001b[0m\" 200 -\n"
     ]
    },
    {
     "name": "stdout",
     "output_type": "stream",
     "text": [
      "Chosen values are: Average monthly ['Actual', 'Predicted'] ['Baseball'] [2020]\n"
     ]
    },
    {
     "name": "stderr",
     "output_type": "stream",
     "text": [
      "127.0.0.1 - - [22/Nov/2020 12:35:45] \"\u001b[37mPOST /_dash-update-component HTTP/1.1\u001b[0m\" 200 -\n"
     ]
    },
    {
     "name": "stdout",
     "output_type": "stream",
     "text": [
      "Chosen values are: Total monthly ['Actual', 'Predicted'] ['Baseball'] [2020]\n"
     ]
    },
    {
     "name": "stderr",
     "output_type": "stream",
     "text": [
      "127.0.0.1 - - [22/Nov/2020 12:35:51] \"\u001b[37mPOST /_dash-update-component HTTP/1.1\u001b[0m\" 200 -\n"
     ]
    },
    {
     "name": "stdout",
     "output_type": "stream",
     "text": [
      "Chosen values are: Average monthly ['Actual', 'Predicted'] ['Baseball'] [2020]\n"
     ]
    },
    {
     "name": "stderr",
     "output_type": "stream",
     "text": [
      "127.0.0.1 - - [22/Nov/2020 12:35:55] \"\u001b[37mPOST /_dash-update-component HTTP/1.1\u001b[0m\" 200 -\n"
     ]
    },
    {
     "name": "stdout",
     "output_type": "stream",
     "text": [
      "Chosen values are: Average daily ['Actual', 'Predicted'] ['Baseball'] [2020]\n"
     ]
    },
    {
     "name": "stderr",
     "output_type": "stream",
     "text": [
      "127.0.0.1 - - [22/Nov/2020 12:35:57] \"\u001b[37mPOST /_dash-update-component HTTP/1.1\u001b[0m\" 200 -\n"
     ]
    },
    {
     "name": "stdout",
     "output_type": "stream",
     "text": [
      "Chosen values are: Average hourly ['Actual', 'Predicted'] ['Baseball'] [2020]\n"
     ]
    },
    {
     "name": "stderr",
     "output_type": "stream",
     "text": [
      "127.0.0.1 - - [22/Nov/2020 12:36:31] \"\u001b[37mPOST /_dash-update-component HTTP/1.1\u001b[0m\" 200 -\n"
     ]
    },
    {
     "name": "stdout",
     "output_type": "stream",
     "text": [
      "Chosen values are: Average hourly ['Predicted'] ['Baseball'] [2020]\n"
     ]
    },
    {
     "name": "stderr",
     "output_type": "stream",
     "text": [
      "127.0.0.1 - - [22/Nov/2020 12:36:40] \"\u001b[37mPOST /_dash-update-component HTTP/1.1\u001b[0m\" 200 -\n"
     ]
    },
    {
     "name": "stdout",
     "output_type": "stream",
     "text": [
      "Chosen values are: Average daily ['Predicted'] ['Baseball'] [2020]\n"
     ]
    },
    {
     "name": "stderr",
     "output_type": "stream",
     "text": [
      "127.0.0.1 - - [22/Nov/2020 12:37:01] \"\u001b[37mPOST /_dash-update-component HTTP/1.1\u001b[0m\" 200 -\n"
     ]
    },
    {
     "name": "stdout",
     "output_type": "stream",
     "text": [
      "Chosen values are: Average daily ['Predicted', 'Actual'] ['Baseball'] [2020]\n"
     ]
    },
    {
     "name": "stderr",
     "output_type": "stream",
     "text": [
      "127.0.0.1 - - [22/Nov/2020 12:51:32] \"\u001b[37mPOST /_dash-update-component HTTP/1.1\u001b[0m\" 200 -\n"
     ]
    },
    {
     "name": "stdout",
     "output_type": "stream",
     "text": [
      "Chosen values are: Average daily ['Predicted', 'Actual'] ['Baseball', 'CampusSupplyStore'] [2020]\n"
     ]
    },
    {
     "name": "stderr",
     "output_type": "stream",
     "text": [
      "127.0.0.1 - - [22/Nov/2020 12:51:53] \"\u001b[37mPOST /_dash-update-component HTTP/1.1\u001b[0m\" 200 -\n"
     ]
    },
    {
     "name": "stdout",
     "output_type": "stream",
     "text": [
      "Chosen values are: Average daily ['Predicted', 'Actual'] ['Baseball', 'CampusSupplyStore', 'ChemicalSafety'] [2020]\n"
     ]
    },
    {
     "name": "stderr",
     "output_type": "stream",
     "text": [
      "127.0.0.1 - - [22/Nov/2020 12:52:25] \"\u001b[37mPOST /_dash-update-component HTTP/1.1\u001b[0m\" 200 -\n"
     ]
    },
    {
     "name": "stdout",
     "output_type": "stream",
     "text": [
      "Chosen values are: Average daily ['Predicted', 'Actual'] ['Baseball', 'CampusSupplyStore'] [2020]\n"
     ]
    },
    {
     "name": "stderr",
     "output_type": "stream",
     "text": [
      "127.0.0.1 - - [22/Nov/2020 12:54:38] \"\u001b[37mPOST /_dash-update-component HTTP/1.1\u001b[0m\" 200 -\n"
     ]
    },
    {
     "name": "stdout",
     "output_type": "stream",
     "text": [
      "Chosen values are: Average daily ['Predicted', 'Actual'] ['Baseball'] [2020]\n"
     ]
    },
    {
     "name": "stderr",
     "output_type": "stream",
     "text": [
      "127.0.0.1 - - [22/Nov/2020 12:54:50] \"\u001b[37mPOST /_dash-update-component HTTP/1.1\u001b[0m\" 200 -\n"
     ]
    },
    {
     "name": "stdout",
     "output_type": "stream",
     "text": [
      "Chosen values are: Total daily ['Predicted', 'Actual'] ['Baseball'] [2020]\n"
     ]
    },
    {
     "name": "stderr",
     "output_type": "stream",
     "text": [
      "127.0.0.1 - - [22/Nov/2020 12:55:06] \"\u001b[37mPOST /_dash-update-component HTTP/1.1\u001b[0m\" 200 -\n"
     ]
    },
    {
     "name": "stdout",
     "output_type": "stream",
     "text": [
      "Chosen values are: Average daily ['Predicted', 'Actual'] ['Baseball'] [2020]\n"
     ]
    },
    {
     "name": "stderr",
     "output_type": "stream",
     "text": [
      "127.0.0.1 - - [22/Nov/2020 12:55:11] \"\u001b[37mPOST /_dash-update-component HTTP/1.1\u001b[0m\" 200 -\n"
     ]
    },
    {
     "name": "stdout",
     "output_type": "stream",
     "text": [
      "Chosen values are: Average daily ['Actual'] ['Baseball'] [2020]\n"
     ]
    },
    {
     "name": "stderr",
     "output_type": "stream",
     "text": [
      "127.0.0.1 - - [22/Nov/2020 12:55:19] \"\u001b[37mPOST /_dash-update-component HTTP/1.1\u001b[0m\" 200 -\n"
     ]
    },
    {
     "name": "stdout",
     "output_type": "stream",
     "text": [
      "Chosen values are: Average daily ['Actual', 'Predicted'] ['Baseball'] [2020]\n"
     ]
    },
    {
     "name": "stderr",
     "output_type": "stream",
     "text": [
      "127.0.0.1 - - [22/Nov/2020 12:55:23] \"\u001b[37mPOST /_dash-update-component HTTP/1.1\u001b[0m\" 200 -\n"
     ]
    },
    {
     "name": "stdout",
     "output_type": "stream",
     "text": [
      "Chosen values are: Total daily ['Actual', 'Predicted'] ['Baseball'] [2020]\n"
     ]
    },
    {
     "name": "stderr",
     "output_type": "stream",
     "text": [
      "127.0.0.1 - - [22/Nov/2020 13:03:43] \"\u001b[37mPOST /_dash-update-component HTTP/1.1\u001b[0m\" 200 -\n"
     ]
    },
    {
     "name": "stdout",
     "output_type": "stream",
     "text": [
      "Chosen values are: Total daily ['Actual', 'Predicted'] ['Baseball', 'BaseballStadiumWellPump'] [2020]\n"
     ]
    },
    {
     "name": "stderr",
     "output_type": "stream",
     "text": [
      "127.0.0.1 - - [22/Nov/2020 13:04:13] \"\u001b[37mPOST /_dash-update-component HTTP/1.1\u001b[0m\" 200 -\n"
     ]
    },
    {
     "name": "stdout",
     "output_type": "stream",
     "text": [
      "Chosen values are: Total daily ['Actual', 'Predicted'] ['BaseballStadiumWellPump'] [2020]\n"
     ]
    },
    {
     "name": "stderr",
     "output_type": "stream",
     "text": [
      "127.0.0.1 - - [22/Nov/2020 13:04:14] \"\u001b[37mPOST /_dash-update-component HTTP/1.1\u001b[0m\" 200 -\n",
      "127.0.0.1 - - [22/Nov/2020 13:04:30] \"\u001b[37mPOST /_dash-update-component HTTP/1.1\u001b[0m\" 200 -\n"
     ]
    },
    {
     "name": "stdout",
     "output_type": "stream",
     "text": [
      "Chosen values are: Total daily ['Actual', 'Predicted'] [] [2020]\n",
      "Chosen values are: Total daily ['Actual', 'Predicted'] ['HHPSoccerField'] [2020]\n"
     ]
    },
    {
     "name": "stderr",
     "output_type": "stream",
     "text": [
      "127.0.0.1 - - [22/Nov/2020 13:04:55] \"\u001b[37mPOST /_dash-update-component HTTP/1.1\u001b[0m\" 200 -\n",
      "127.0.0.1 - - [22/Nov/2020 13:06:01] \"\u001b[37mPOST /_dash-update-component HTTP/1.1\u001b[0m\" 200 -\n"
     ]
    },
    {
     "name": "stdout",
     "output_type": "stream",
     "text": [
      "Chosen values are: Total daily ['Actual', 'Predicted'] [] [2020]\n",
      "Chosen values are: Total daily ['Actual', 'Predicted'] ['Baseball'] [2020]\n"
     ]
    },
    {
     "name": "stderr",
     "output_type": "stream",
     "text": [
      "127.0.0.1 - - [22/Nov/2020 13:07:12] \"\u001b[37mPOST /_dash-update-component HTTP/1.1\u001b[0m\" 200 -\n"
     ]
    },
    {
     "name": "stdout",
     "output_type": "stream",
     "text": [
      "Chosen values are: Total daily ['Actual', 'Predicted'] ['Baseball'] [2020, 2019]\n"
     ]
    },
    {
     "name": "stderr",
     "output_type": "stream",
     "text": [
      "127.0.0.1 - - [22/Nov/2020 13:07:22] \"\u001b[37mPOST /_dash-update-component HTTP/1.1\u001b[0m\" 200 -\n"
     ]
    },
    {
     "name": "stdout",
     "output_type": "stream",
     "text": [
      "Chosen values are: Total daily ['Actual', 'Predicted'] ['Baseball'] [2020]\n"
     ]
    },
    {
     "name": "stderr",
     "output_type": "stream",
     "text": [
      "127.0.0.1 - - [22/Nov/2020 13:07:25] \"\u001b[37mPOST /_dash-update-component HTTP/1.1\u001b[0m\" 200 -\n"
     ]
    },
    {
     "name": "stdout",
     "output_type": "stream",
     "text": [
      "Chosen values are: Total daily ['Actual', 'Predicted'] ['Baseball'] []\n"
     ]
    },
    {
     "name": "stderr",
     "output_type": "stream",
     "text": [
      "127.0.0.1 - - [22/Nov/2020 13:07:26] \"\u001b[37mPOST /_dash-update-component HTTP/1.1\u001b[0m\" 200 -\n"
     ]
    },
    {
     "name": "stdout",
     "output_type": "stream",
     "text": [
      "Chosen values are: Total daily ['Actual', 'Predicted'] ['Baseball'] [2020]\n"
     ]
    },
    {
     "name": "stderr",
     "output_type": "stream",
     "text": [
      "127.0.0.1 - - [22/Nov/2020 13:07:29] \"\u001b[37mPOST /_dash-update-component HTTP/1.1\u001b[0m\" 200 -\n"
     ]
    },
    {
     "name": "stdout",
     "output_type": "stream",
     "text": [
      "Chosen values are: Average daily ['Actual', 'Predicted'] ['Baseball'] [2020]\n"
     ]
    },
    {
     "name": "stderr",
     "output_type": "stream",
     "text": [
      "127.0.0.1 - - [22/Nov/2020 13:07:47] \"\u001b[37mPOST /_dash-update-component HTTP/1.1\u001b[0m\" 200 -\n"
     ]
    },
    {
     "name": "stdout",
     "output_type": "stream",
     "text": [
      "Chosen values are: Total daily ['Actual', 'Predicted'] ['Baseball'] [2020]\n"
     ]
    },
    {
     "name": "stderr",
     "output_type": "stream",
     "text": [
      "127.0.0.1 - - [22/Nov/2020 13:08:09] \"\u001b[37mPOST /_dash-update-component HTTP/1.1\u001b[0m\" 200 -\n"
     ]
    },
    {
     "name": "stdout",
     "output_type": "stream",
     "text": [
      "Chosen values are: Total daily ['Actual'] ['Baseball'] [2020]\n"
     ]
    },
    {
     "name": "stderr",
     "output_type": "stream",
     "text": [
      "127.0.0.1 - - [22/Nov/2020 13:41:11] \"\u001b[37mPOST /_dash-update-component HTTP/1.1\u001b[0m\" 200 -\n"
     ]
    },
    {
     "name": "stdout",
     "output_type": "stream",
     "text": [
      "Chosen values are: Total hourly ['Actual'] ['Baseball'] [2020]\n"
     ]
    },
    {
     "name": "stderr",
     "output_type": "stream",
     "text": [
      "127.0.0.1 - - [22/Nov/2020 13:41:13] \"\u001b[37mPOST /_dash-update-component HTTP/1.1\u001b[0m\" 200 -\n"
     ]
    },
    {
     "name": "stdout",
     "output_type": "stream",
     "text": [
      "Chosen values are: Average hourly ['Actual'] ['Baseball'] [2020]\n"
     ]
    },
    {
     "name": "stderr",
     "output_type": "stream",
     "text": [
      "127.0.0.1 - - [22/Nov/2020 13:44:32] \"\u001b[37mPOST /_dash-update-component HTTP/1.1\u001b[0m\" 200 -\n"
     ]
    },
    {
     "name": "stdout",
     "output_type": "stream",
     "text": [
      "Chosen values are: Total hourly ['Actual'] ['Baseball'] [2020]\n"
     ]
    },
    {
     "name": "stderr",
     "output_type": "stream",
     "text": [
      "127.0.0.1 - - [22/Nov/2020 13:45:47] \"\u001b[37mPOST /_dash-update-component HTTP/1.1\u001b[0m\" 200 -\n"
     ]
    },
    {
     "name": "stdout",
     "output_type": "stream",
     "text": [
      "Chosen values are: Total daily ['Actual'] ['Baseball'] [2020]\n"
     ]
    },
    {
     "name": "stderr",
     "output_type": "stream",
     "text": [
      "127.0.0.1 - - [22/Nov/2020 13:46:03] \"\u001b[37mPOST /_dash-update-component HTTP/1.1\u001b[0m\" 200 -\n"
     ]
    },
    {
     "name": "stdout",
     "output_type": "stream",
     "text": [
      "Chosen values are: Average daily ['Actual'] ['Baseball'] [2020]\n"
     ]
    },
    {
     "name": "stderr",
     "output_type": "stream",
     "text": [
      "127.0.0.1 - - [22/Nov/2020 13:46:49] \"\u001b[37mPOST /_dash-update-component HTTP/1.1\u001b[0m\" 200 -\n"
     ]
    },
    {
     "name": "stdout",
     "output_type": "stream",
     "text": [
      "Chosen values are: Average weekly ['Actual'] ['Baseball'] [2020]\n"
     ]
    },
    {
     "name": "stderr",
     "output_type": "stream",
     "text": [
      "127.0.0.1 - - [22/Nov/2020 13:47:32] \"\u001b[37mPOST /_dash-update-component HTTP/1.1\u001b[0m\" 200 -\n"
     ]
    },
    {
     "name": "stdout",
     "output_type": "stream",
     "text": [
      "Chosen values are: Average monthly ['Actual'] ['Baseball'] [2020]\n"
     ]
    },
    {
     "name": "stderr",
     "output_type": "stream",
     "text": [
      "127.0.0.1 - - [22/Nov/2020 13:47:48] \"\u001b[37mPOST /_dash-update-component HTTP/1.1\u001b[0m\" 200 -\n"
     ]
    }
   ],
   "source": [
    "if __name__ == '__main__':\n",
    "    #app.run_server(debug=True)\n",
    "    app.run_server(debug=False,host = '127.0.0.1')\n",
    "    \n",
    "    \n",
    "    "
   ]
  },
  {
   "cell_type": "code",
   "execution_count": null,
   "metadata": {},
   "outputs": [],
   "source": []
  }
 ],
 "metadata": {
  "kernelspec": {
   "display_name": "Python 3",
   "language": "python",
   "name": "python3"
  },
  "language_info": {
   "codemirror_mode": {
    "name": "ipython",
    "version": 3
   },
   "file_extension": ".py",
   "mimetype": "text/x-python",
   "name": "python",
   "nbconvert_exporter": "python",
   "pygments_lexer": "ipython3",
   "version": "3.7.4"
  }
 },
 "nbformat": 4,
 "nbformat_minor": 2
}
